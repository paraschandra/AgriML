{
 "cells": [
  {
   "cell_type": "code",
   "execution_count": 1,
   "id": "40fa6127",
   "metadata": {},
   "outputs": [],
   "source": [
    "import pandas as pd\n",
    "import numpy as np\n",
    "from sklearn.metrics import classification_report\n",
    "from sklearn import metrics\n",
    "from sklearn.model_selection import cross_val_score\n",
    "import pickle as pkl"
   ]
  },
  {
   "cell_type": "code",
   "execution_count": 2,
   "id": "4513fdfd",
   "metadata": {},
   "outputs": [],
   "source": [
    "df=pd.read_csv(r\"D:/VS Code/Final Project/smart_agriculture/backend/data/crop_recommendation.csv\")"
   ]
  },
  {
   "cell_type": "code",
   "execution_count": 4,
   "id": "dd1c9b9f",
   "metadata": {},
   "outputs": [
    {
     "data": {
      "text/html": [
       "<div>\n",
       "<style scoped>\n",
       "    .dataframe tbody tr th:only-of-type {\n",
       "        vertical-align: middle;\n",
       "    }\n",
       "\n",
       "    .dataframe tbody tr th {\n",
       "        vertical-align: top;\n",
       "    }\n",
       "\n",
       "    .dataframe thead th {\n",
       "        text-align: right;\n",
       "    }\n",
       "</style>\n",
       "<table border=\"1\" class=\"dataframe\">\n",
       "  <thead>\n",
       "    <tr style=\"text-align: right;\">\n",
       "      <th></th>\n",
       "      <th>N</th>\n",
       "      <th>P</th>\n",
       "      <th>K</th>\n",
       "      <th>temperature</th>\n",
       "      <th>humidity</th>\n",
       "      <th>ph</th>\n",
       "      <th>rainfall</th>\n",
       "      <th>label</th>\n",
       "    </tr>\n",
       "  </thead>\n",
       "  <tbody>\n",
       "    <tr>\n",
       "      <th>0</th>\n",
       "      <td>90</td>\n",
       "      <td>42</td>\n",
       "      <td>43</td>\n",
       "      <td>20.879744</td>\n",
       "      <td>82.002744</td>\n",
       "      <td>6.502985</td>\n",
       "      <td>202.935536</td>\n",
       "      <td>rice</td>\n",
       "    </tr>\n",
       "    <tr>\n",
       "      <th>1</th>\n",
       "      <td>85</td>\n",
       "      <td>58</td>\n",
       "      <td>41</td>\n",
       "      <td>21.770462</td>\n",
       "      <td>80.319644</td>\n",
       "      <td>7.038096</td>\n",
       "      <td>226.655537</td>\n",
       "      <td>rice</td>\n",
       "    </tr>\n",
       "    <tr>\n",
       "      <th>2</th>\n",
       "      <td>60</td>\n",
       "      <td>55</td>\n",
       "      <td>44</td>\n",
       "      <td>23.004459</td>\n",
       "      <td>82.320763</td>\n",
       "      <td>7.840207</td>\n",
       "      <td>263.964248</td>\n",
       "      <td>rice</td>\n",
       "    </tr>\n",
       "    <tr>\n",
       "      <th>3</th>\n",
       "      <td>74</td>\n",
       "      <td>35</td>\n",
       "      <td>40</td>\n",
       "      <td>26.491096</td>\n",
       "      <td>80.158363</td>\n",
       "      <td>6.980401</td>\n",
       "      <td>242.864034</td>\n",
       "      <td>rice</td>\n",
       "    </tr>\n",
       "    <tr>\n",
       "      <th>4</th>\n",
       "      <td>78</td>\n",
       "      <td>42</td>\n",
       "      <td>42</td>\n",
       "      <td>20.130175</td>\n",
       "      <td>81.604873</td>\n",
       "      <td>7.628473</td>\n",
       "      <td>262.717340</td>\n",
       "      <td>rice</td>\n",
       "    </tr>\n",
       "    <tr>\n",
       "      <th>5</th>\n",
       "      <td>69</td>\n",
       "      <td>37</td>\n",
       "      <td>42</td>\n",
       "      <td>23.058049</td>\n",
       "      <td>83.370118</td>\n",
       "      <td>7.073454</td>\n",
       "      <td>251.055000</td>\n",
       "      <td>rice</td>\n",
       "    </tr>\n",
       "  </tbody>\n",
       "</table>\n",
       "</div>"
      ],
      "text/plain": [
       "    N   P   K  temperature   humidity        ph    rainfall label\n",
       "0  90  42  43    20.879744  82.002744  6.502985  202.935536  rice\n",
       "1  85  58  41    21.770462  80.319644  7.038096  226.655537  rice\n",
       "2  60  55  44    23.004459  82.320763  7.840207  263.964248  rice\n",
       "3  74  35  40    26.491096  80.158363  6.980401  242.864034  rice\n",
       "4  78  42  42    20.130175  81.604873  7.628473  262.717340  rice\n",
       "5  69  37  42    23.058049  83.370118  7.073454  251.055000  rice"
      ]
     },
     "execution_count": 4,
     "metadata": {},
     "output_type": "execute_result"
    }
   ],
   "source": [
    "df.head(6)"
   ]
  },
  {
   "cell_type": "code",
   "execution_count": 14,
   "id": "a5aadd44",
   "metadata": {},
   "outputs": [
    {
     "data": {
      "text/html": [
       "<div>\n",
       "<style scoped>\n",
       "    .dataframe tbody tr th:only-of-type {\n",
       "        vertical-align: middle;\n",
       "    }\n",
       "\n",
       "    .dataframe tbody tr th {\n",
       "        vertical-align: top;\n",
       "    }\n",
       "\n",
       "    .dataframe thead th {\n",
       "        text-align: right;\n",
       "    }\n",
       "</style>\n",
       "<table border=\"1\" class=\"dataframe\">\n",
       "  <thead>\n",
       "    <tr style=\"text-align: right;\">\n",
       "      <th></th>\n",
       "      <th>N</th>\n",
       "      <th>P</th>\n",
       "      <th>K</th>\n",
       "      <th>temperature</th>\n",
       "      <th>humidity</th>\n",
       "      <th>ph</th>\n",
       "      <th>rainfall</th>\n",
       "      <th>label</th>\n",
       "    </tr>\n",
       "  </thead>\n",
       "  <tbody>\n",
       "    <tr>\n",
       "      <th>2194</th>\n",
       "      <td>97</td>\n",
       "      <td>35</td>\n",
       "      <td>26</td>\n",
       "      <td>24.914610</td>\n",
       "      <td>53.741447</td>\n",
       "      <td>6.334610</td>\n",
       "      <td>166.254931</td>\n",
       "      <td>coffee</td>\n",
       "    </tr>\n",
       "    <tr>\n",
       "      <th>2195</th>\n",
       "      <td>107</td>\n",
       "      <td>34</td>\n",
       "      <td>32</td>\n",
       "      <td>26.774637</td>\n",
       "      <td>66.413269</td>\n",
       "      <td>6.780064</td>\n",
       "      <td>177.774507</td>\n",
       "      <td>coffee</td>\n",
       "    </tr>\n",
       "    <tr>\n",
       "      <th>2196</th>\n",
       "      <td>99</td>\n",
       "      <td>15</td>\n",
       "      <td>27</td>\n",
       "      <td>27.417112</td>\n",
       "      <td>56.636362</td>\n",
       "      <td>6.086922</td>\n",
       "      <td>127.924610</td>\n",
       "      <td>coffee</td>\n",
       "    </tr>\n",
       "    <tr>\n",
       "      <th>2197</th>\n",
       "      <td>118</td>\n",
       "      <td>33</td>\n",
       "      <td>30</td>\n",
       "      <td>24.131797</td>\n",
       "      <td>67.225123</td>\n",
       "      <td>6.362608</td>\n",
       "      <td>173.322839</td>\n",
       "      <td>coffee</td>\n",
       "    </tr>\n",
       "    <tr>\n",
       "      <th>2198</th>\n",
       "      <td>117</td>\n",
       "      <td>32</td>\n",
       "      <td>34</td>\n",
       "      <td>26.272418</td>\n",
       "      <td>52.127394</td>\n",
       "      <td>6.758793</td>\n",
       "      <td>127.175293</td>\n",
       "      <td>coffee</td>\n",
       "    </tr>\n",
       "    <tr>\n",
       "      <th>2199</th>\n",
       "      <td>104</td>\n",
       "      <td>18</td>\n",
       "      <td>30</td>\n",
       "      <td>23.603016</td>\n",
       "      <td>60.396475</td>\n",
       "      <td>6.779833</td>\n",
       "      <td>140.937041</td>\n",
       "      <td>coffee</td>\n",
       "    </tr>\n",
       "  </tbody>\n",
       "</table>\n",
       "</div>"
      ],
      "text/plain": [
       "        N   P   K  temperature   humidity        ph    rainfall   label\n",
       "2194   97  35  26    24.914610  53.741447  6.334610  166.254931  coffee\n",
       "2195  107  34  32    26.774637  66.413269  6.780064  177.774507  coffee\n",
       "2196   99  15  27    27.417112  56.636362  6.086922  127.924610  coffee\n",
       "2197  118  33  30    24.131797  67.225123  6.362608  173.322839  coffee\n",
       "2198  117  32  34    26.272418  52.127394  6.758793  127.175293  coffee\n",
       "2199  104  18  30    23.603016  60.396475  6.779833  140.937041  coffee"
      ]
     },
     "execution_count": 14,
     "metadata": {},
     "output_type": "execute_result"
    }
   ],
   "source": [
    "df.tail(6)"
   ]
  },
  {
   "cell_type": "code",
   "execution_count": 15,
   "id": "e6f99d0c",
   "metadata": {},
   "outputs": [
    {
     "data": {
      "text/plain": [
       "17600"
      ]
     },
     "execution_count": 15,
     "metadata": {},
     "output_type": "execute_result"
    }
   ],
   "source": [
    "df.size"
   ]
  },
  {
   "cell_type": "code",
   "execution_count": 16,
   "id": "c165febd",
   "metadata": {},
   "outputs": [
    {
     "data": {
      "text/plain": [
       "(2200, 8)"
      ]
     },
     "execution_count": 16,
     "metadata": {},
     "output_type": "execute_result"
    }
   ],
   "source": [
    "df.shape"
   ]
  },
  {
   "cell_type": "code",
   "execution_count": 17,
   "id": "28be9542",
   "metadata": {},
   "outputs": [
    {
     "data": {
      "text/plain": [
       "Index(['N', 'P', 'K', 'temperature', 'humidity', 'ph', 'rainfall', 'label'], dtype='object')"
      ]
     },
     "execution_count": 17,
     "metadata": {},
     "output_type": "execute_result"
    }
   ],
   "source": [
    "df.columns"
   ]
  },
  {
   "cell_type": "code",
   "execution_count": 18,
   "id": "6db7d8e6",
   "metadata": {},
   "outputs": [
    {
     "data": {
      "text/plain": [
       "array(['rice', 'maize', 'chickpea', 'kidneybeans', 'pigeonpeas',\n",
       "       'mothbeans', 'mungbean', 'blackgram', 'lentil', 'pomegranate',\n",
       "       'banana', 'mango', 'grapes', 'watermelon', 'muskmelon', 'apple',\n",
       "       'orange', 'papaya', 'coconut', 'cotton', 'jute', 'coffee'],\n",
       "      dtype=object)"
      ]
     },
     "execution_count": 18,
     "metadata": {},
     "output_type": "execute_result"
    }
   ],
   "source": [
    "df['label'].unique()"
   ]
  },
  {
   "cell_type": "code",
   "execution_count": 19,
   "id": "fbb7c012",
   "metadata": {},
   "outputs": [
    {
     "data": {
      "text/plain": [
       "N                int64\n",
       "P                int64\n",
       "K                int64\n",
       "temperature    float64\n",
       "humidity       float64\n",
       "ph             float64\n",
       "rainfall       float64\n",
       "label           object\n",
       "dtype: object"
      ]
     },
     "execution_count": 19,
     "metadata": {},
     "output_type": "execute_result"
    }
   ],
   "source": [
    "df.dtypes"
   ]
  },
  {
   "cell_type": "code",
   "execution_count": 21,
   "id": "3b36f60e",
   "metadata": {},
   "outputs": [
    {
     "data": {
      "text/html": [
       "<div>\n",
       "<style scoped>\n",
       "    .dataframe tbody tr th:only-of-type {\n",
       "        vertical-align: middle;\n",
       "    }\n",
       "\n",
       "    .dataframe tbody tr th {\n",
       "        vertical-align: top;\n",
       "    }\n",
       "\n",
       "    .dataframe thead th {\n",
       "        text-align: right;\n",
       "    }\n",
       "</style>\n",
       "<table border=\"1\" class=\"dataframe\">\n",
       "  <thead>\n",
       "    <tr style=\"text-align: right;\">\n",
       "      <th></th>\n",
       "      <th>N</th>\n",
       "      <th>P</th>\n",
       "      <th>K</th>\n",
       "      <th>temperature</th>\n",
       "      <th>humidity</th>\n",
       "      <th>ph</th>\n",
       "      <th>rainfall</th>\n",
       "    </tr>\n",
       "  </thead>\n",
       "  <tbody>\n",
       "    <tr>\n",
       "      <th>count</th>\n",
       "      <td>2200.000000</td>\n",
       "      <td>2200.000000</td>\n",
       "      <td>2200.000000</td>\n",
       "      <td>2200.000000</td>\n",
       "      <td>2200.000000</td>\n",
       "      <td>2200.000000</td>\n",
       "      <td>2200.000000</td>\n",
       "    </tr>\n",
       "    <tr>\n",
       "      <th>mean</th>\n",
       "      <td>50.551818</td>\n",
       "      <td>53.362727</td>\n",
       "      <td>48.149091</td>\n",
       "      <td>25.616244</td>\n",
       "      <td>71.481779</td>\n",
       "      <td>6.469480</td>\n",
       "      <td>103.463655</td>\n",
       "    </tr>\n",
       "    <tr>\n",
       "      <th>std</th>\n",
       "      <td>36.917334</td>\n",
       "      <td>32.985883</td>\n",
       "      <td>50.647931</td>\n",
       "      <td>5.063749</td>\n",
       "      <td>22.263812</td>\n",
       "      <td>0.773938</td>\n",
       "      <td>54.958389</td>\n",
       "    </tr>\n",
       "    <tr>\n",
       "      <th>min</th>\n",
       "      <td>0.000000</td>\n",
       "      <td>5.000000</td>\n",
       "      <td>5.000000</td>\n",
       "      <td>8.825675</td>\n",
       "      <td>14.258040</td>\n",
       "      <td>3.504752</td>\n",
       "      <td>20.211267</td>\n",
       "    </tr>\n",
       "    <tr>\n",
       "      <th>25%</th>\n",
       "      <td>21.000000</td>\n",
       "      <td>28.000000</td>\n",
       "      <td>20.000000</td>\n",
       "      <td>22.769375</td>\n",
       "      <td>60.261953</td>\n",
       "      <td>5.971693</td>\n",
       "      <td>64.551686</td>\n",
       "    </tr>\n",
       "    <tr>\n",
       "      <th>50%</th>\n",
       "      <td>37.000000</td>\n",
       "      <td>51.000000</td>\n",
       "      <td>32.000000</td>\n",
       "      <td>25.598693</td>\n",
       "      <td>80.473146</td>\n",
       "      <td>6.425045</td>\n",
       "      <td>94.867624</td>\n",
       "    </tr>\n",
       "    <tr>\n",
       "      <th>75%</th>\n",
       "      <td>84.250000</td>\n",
       "      <td>68.000000</td>\n",
       "      <td>49.000000</td>\n",
       "      <td>28.561654</td>\n",
       "      <td>89.948771</td>\n",
       "      <td>6.923643</td>\n",
       "      <td>124.267508</td>\n",
       "    </tr>\n",
       "    <tr>\n",
       "      <th>max</th>\n",
       "      <td>140.000000</td>\n",
       "      <td>145.000000</td>\n",
       "      <td>205.000000</td>\n",
       "      <td>43.675493</td>\n",
       "      <td>99.981876</td>\n",
       "      <td>9.935091</td>\n",
       "      <td>298.560117</td>\n",
       "    </tr>\n",
       "  </tbody>\n",
       "</table>\n",
       "</div>"
      ],
      "text/plain": [
       "                 N            P            K  temperature     humidity  \\\n",
       "count  2200.000000  2200.000000  2200.000000  2200.000000  2200.000000   \n",
       "mean     50.551818    53.362727    48.149091    25.616244    71.481779   \n",
       "std      36.917334    32.985883    50.647931     5.063749    22.263812   \n",
       "min       0.000000     5.000000     5.000000     8.825675    14.258040   \n",
       "25%      21.000000    28.000000    20.000000    22.769375    60.261953   \n",
       "50%      37.000000    51.000000    32.000000    25.598693    80.473146   \n",
       "75%      84.250000    68.000000    49.000000    28.561654    89.948771   \n",
       "max     140.000000   145.000000   205.000000    43.675493    99.981876   \n",
       "\n",
       "                ph     rainfall  \n",
       "count  2200.000000  2200.000000  \n",
       "mean      6.469480   103.463655  \n",
       "std       0.773938    54.958389  \n",
       "min       3.504752    20.211267  \n",
       "25%       5.971693    64.551686  \n",
       "50%       6.425045    94.867624  \n",
       "75%       6.923643   124.267508  \n",
       "max       9.935091   298.560117  "
      ]
     },
     "execution_count": 21,
     "metadata": {},
     "output_type": "execute_result"
    }
   ],
   "source": [
    "df.describe()"
   ]
  },
  {
   "cell_type": "code",
   "execution_count": 29,
   "id": "c88ea40f",
   "metadata": {
    "scrolled": true
   },
   "outputs": [
    {
     "data": {
      "text/plain": [
       "rice           100\n",
       "maize          100\n",
       "jute           100\n",
       "cotton         100\n",
       "coconut        100\n",
       "papaya         100\n",
       "orange         100\n",
       "apple          100\n",
       "muskmelon      100\n",
       "watermelon     100\n",
       "grapes         100\n",
       "mango          100\n",
       "banana         100\n",
       "pomegranate    100\n",
       "lentil         100\n",
       "blackgram      100\n",
       "mungbean       100\n",
       "mothbeans      100\n",
       "pigeonpeas     100\n",
       "kidneybeans    100\n",
       "chickpea       100\n",
       "coffee         100\n",
       "Name: label, dtype: int64"
      ]
     },
     "execution_count": 29,
     "metadata": {},
     "output_type": "execute_result"
    }
   ],
   "source": [
    "df['label'].value_counts()"
   ]
  },
  {
   "cell_type": "code",
   "execution_count": 3,
   "id": "7652ad98",
   "metadata": {},
   "outputs": [
    {
     "name": "stderr",
     "output_type": "stream",
     "text": [
      "C:\\Users\\paras\\AppData\\Local\\Temp\\ipykernel_14152\\775922366.py:4: FutureWarning: The default value of numeric_only in DataFrame.corr is deprecated. In a future version, it will default to False. Select only valid columns or specify the value of numeric_only to silence this warning.\n",
      "  sns.heatmap(df.corr(),annot=True)\n"
     ]
    },
    {
     "data": {
      "image/png": "[encoded data removed]",
      "text/plain": [
       "<Figure size 2000x1000 with 2 Axes>"
      ]
     },
     "metadata": {},
     "output_type": "display_data"
    }
   ],
   "source": [
    "import seaborn as sns\n",
    "import matplotlib.pyplot as plt\n",
    "plt.figure(figsize=(20, 10))\n",
    "sns.heatmap(df.corr(),annot=True)\n",
    "plt.show()"
   ]
  },
  {
   "cell_type": "markdown",
   "id": "99dd6154",
   "metadata": {},
   "source": [
    "### Separating Features and target label"
   ]
  },
  {
   "cell_type": "code",
   "execution_count": 6,
   "id": "ac795b6a",
   "metadata": {},
   "outputs": [],
   "source": [
    "features = df[['N', 'P', 'K','temperature','humidity','ph']]\n",
    "target = df['label']\n",
    "labels = df['label']"
   ]
  },
  {
   "cell_type": "code",
   "execution_count": 7,
   "id": "9058e32d",
   "metadata": {},
   "outputs": [],
   "source": [
    "# empty lists to store model names and their corresponding accuracies\n",
    "model = []\n",
    "acc = []"
   ]
  },
  {
   "cell_type": "code",
   "execution_count": 8,
   "id": "5ca57e58",
   "metadata": {},
   "outputs": [
    {
     "name": "stdout",
     "output_type": "stream",
     "text": [
      "Train set: (1760, 6) (1760,)\n",
      "Test set: (440, 6) (440,)\n"
     ]
    }
   ],
   "source": [
    "from sklearn.model_selection import train_test_split\n",
    "X_train, X_test, Y_train, Y_test = train_test_split( features, target, test_size=0.2, random_state=4)\n",
    "print ('Train set:', X_train.shape,  Y_train.shape)\n",
    "print ('Test set:', X_test.shape,  Y_test.shape)"
   ]
  },
  {
   "cell_type": "markdown",
   "id": "bbb57073",
   "metadata": {},
   "source": [
    "## Naive Bayes Classifier"
   ]
  },
  {
   "cell_type": "code",
   "execution_count": 9,
   "id": "0e6d2349",
   "metadata": {},
   "outputs": [
    {
     "name": "stdout",
     "output_type": "stream",
     "text": [
      "Naive Bayes's Accuracy is: 96.13636363636363 %\n",
      "              precision    recall  f1-score   support\n",
      "\n",
      "       apple       1.00      1.00      1.00        21\n",
      "      banana       1.00      1.00      1.00        18\n",
      "   blackgram       0.76      0.90      0.83        21\n",
      "    chickpea       1.00      1.00      1.00        29\n",
      "     coconut       1.00      0.95      0.97        20\n",
      "      coffee       0.95      1.00      0.98        21\n",
      "      cotton       0.94      1.00      0.97        16\n",
      "      grapes       1.00      1.00      1.00        24\n",
      "        jute       0.90      0.82      0.86        22\n",
      " kidneybeans       1.00      1.00      1.00        15\n",
      "      lentil       0.89      0.77      0.83        22\n",
      "       maize       1.00      0.96      0.98        24\n",
      "       mango       1.00      1.00      1.00        20\n",
      "   mothbeans       1.00      0.94      0.97        17\n",
      "    mungbean       1.00      1.00      1.00        15\n",
      "   muskmelon       1.00      1.00      1.00        17\n",
      "      orange       1.00      1.00      1.00        16\n",
      "      papaya       1.00      1.00      1.00        22\n",
      "  pigeonpeas       0.95      0.95      0.95        22\n",
      " pomegranate       0.95      1.00      0.97        18\n",
      "        rice       0.85      0.89      0.87        19\n",
      "  watermelon       1.00      1.00      1.00        21\n",
      "\n",
      "    accuracy                           0.96       440\n",
      "   macro avg       0.96      0.96      0.96       440\n",
      "weighted avg       0.96      0.96      0.96       440\n",
      "\n"
     ]
    }
   ],
   "source": [
    "from sklearn.naive_bayes import GaussianNB\n",
    "\n",
    "NaiveBayes = GaussianNB()\n",
    "\n",
    "NaiveBayes.fit(X_train,Y_train)\n",
    "\n",
    "predicted_values = NaiveBayes.predict(X_test)\n",
    "x = metrics.accuracy_score(Y_test, predicted_values)\n",
    "acc.append(x)\n",
    "model.append('Naive Bayes')\n",
    "print(f\"Naive Bayes's Accuracy is: {x*100} %\")\n",
    "\n",
    "print(classification_report(Y_test,predicted_values))\n"
   ]
  },
  {
   "cell_type": "code",
   "execution_count": 10,
   "id": "a51f0662",
   "metadata": {},
   "outputs": [
    {
     "data": {
      "text/plain": [
       "array([0.95909091, 0.96590909, 0.96363636, 0.96590909, 0.96363636])"
      ]
     },
     "execution_count": 10,
     "metadata": {},
     "output_type": "execute_result"
    }
   ],
   "source": [
    "# cross validation score (NaiveBayes)\n",
    "score = cross_val_score(NaiveBayes, features, target, cv=5)\n",
    "score"
   ]
  },
  {
   "cell_type": "markdown",
   "id": "19ec5027",
   "metadata": {},
   "source": [
    "#### Saving trained Naive Bayes Model"
   ]
  },
  {
   "cell_type": "code",
   "execution_count": 11,
   "id": "b906380f",
   "metadata": {},
   "outputs": [],
   "source": [
    "NB_pkl_filepath = '../models/NBClassifier.pkl'\n",
    "NB_model_pkl = open(NB_pkl_filepath, 'wb')\n",
    "pkl.dump(NaiveBayes, NB_model_pkl)\n",
    "NB_model_pkl.close()"
   ]
  },
  {
   "cell_type": "markdown",
   "id": "1fd6b780",
   "metadata": {},
   "source": [
    "## Decision Tree"
   ]
  },
  {
   "cell_type": "code",
   "execution_count": 12,
   "id": "e2ef42ce",
   "metadata": {},
   "outputs": [
    {
     "name": "stdout",
     "output_type": "stream",
     "text": [
      "Decision Tree's Accuracy is: 81.81818181818183 %\n",
      "              precision    recall  f1-score   support\n",
      "\n",
      "       apple       1.00      1.00      1.00        21\n",
      "      banana       0.95      1.00      0.97        18\n",
      "   blackgram       0.44      1.00      0.61        21\n",
      "    chickpea       1.00      1.00      1.00        29\n",
      "     coconut       1.00      1.00      1.00        20\n",
      "      coffee       1.00      1.00      1.00        21\n",
      "      cotton       0.94      1.00      0.97        16\n",
      "      grapes       1.00      1.00      1.00        24\n",
      "        jute       0.67      0.18      0.29        22\n",
      " kidneybeans       1.00      1.00      1.00        15\n",
      "      lentil       0.00      0.00      0.00        22\n",
      "       maize       1.00      0.96      0.98        24\n",
      "       mango       0.41      1.00      0.58        20\n",
      "   mothbeans       1.00      0.29      0.45        17\n",
      "    mungbean       1.00      1.00      1.00        15\n",
      "   muskmelon       0.94      1.00      0.97        17\n",
      "      orange       1.00      1.00      1.00        16\n",
      "      papaya       1.00      0.91      0.95        22\n",
      "  pigeonpeas       0.00      0.00      0.00        22\n",
      " pomegranate       1.00      1.00      1.00        18\n",
      "        rice       0.47      0.89      0.62        19\n",
      "  watermelon       1.00      0.95      0.98        21\n",
      "\n",
      "    accuracy                           0.82       440\n",
      "   macro avg       0.81      0.83      0.79       440\n",
      "weighted avg       0.80      0.82      0.78       440\n",
      "\n"
     ]
    },
    {
     "name": "stderr",
     "output_type": "stream",
     "text": [
      "c:\\Users\\paras\\AppData\\Local\\Programs\\Python\\Python39\\lib\\site-packages\\sklearn\\metrics\\_classification.py:1248: UndefinedMetricWarning: Precision and F-score are ill-defined and being set to 0.0 in labels with no predicted samples. Use `zero_division` parameter to control this behavior.\n",
      "  _warn_prf(average, modifier, msg_start, len(result))\n",
      "c:\\Users\\paras\\AppData\\Local\\Programs\\Python\\Python39\\lib\\site-packages\\sklearn\\metrics\\_classification.py:1248: UndefinedMetricWarning: Precision and F-score are ill-defined and being set to 0.0 in labels with no predicted samples. Use `zero_division` parameter to control this behavior.\n",
      "  _warn_prf(average, modifier, msg_start, len(result))\n",
      "c:\\Users\\paras\\AppData\\Local\\Programs\\Python\\Python39\\lib\\site-packages\\sklearn\\metrics\\_classification.py:1248: UndefinedMetricWarning: Precision and F-score are ill-defined and being set to 0.0 in labels with no predicted samples. Use `zero_division` parameter to control this behavior.\n",
      "  _warn_prf(average, modifier, msg_start, len(result))\n"
     ]
    }
   ],
   "source": [
    "from sklearn.tree import DecisionTreeClassifier\n",
    "\n",
    "DecisionTree = DecisionTreeClassifier(criterion=\"entropy\",random_state=2,max_depth=5)\n",
    "\n",
    "DecisionTree.fit(X_train, Y_train)\n",
    "\n",
    "predicted_values = DecisionTree.predict(X_test)\n",
    "x = metrics.accuracy_score(Y_test, predicted_values)\n",
    "acc.append(x)\n",
    "model.append('Decision Tree')\n",
    "print(f\"Decision Tree's Accuracy is: {x*100} %\")\n",
    "\n",
    "print(classification_report(Y_test, predicted_values))"
   ]
  },
  {
   "cell_type": "code",
   "execution_count": 13,
   "id": "3c86109d",
   "metadata": {},
   "outputs": [
    {
     "data": {
      "text/plain": [
       "array([0.89545455, 0.87045455, 0.86590909, 0.83181818, 0.87272727])"
      ]
     },
     "execution_count": 13,
     "metadata": {},
     "output_type": "execute_result"
    }
   ],
   "source": [
    "# cross validation score (DecisionTree)\n",
    "score = cross_val_score(DecisionTree, features, target, cv=5)\n",
    "score"
   ]
  },
  {
   "cell_type": "markdown",
   "id": "c1fa5e03",
   "metadata": {},
   "source": [
    "### Saving trained Decision Tree Model"
   ]
  },
  {
   "cell_type": "code",
   "execution_count": 14,
   "id": "22b86451",
   "metadata": {},
   "outputs": [],
   "source": [
    "DT_pkl_filepath = '../models/DecisionTree.pkl'\n",
    "DT_model_pkl = open(DT_pkl_filepath, 'wb')\n",
    "pkl.dump(DecisionTree, DT_model_pkl)\n",
    "DT_model_pkl.close()"
   ]
  },
  {
   "cell_type": "markdown",
   "id": "098cefe3",
   "metadata": {},
   "source": [
    "## Support Vector Machine"
   ]
  },
  {
   "cell_type": "code",
   "execution_count": 15,
   "id": "f99a39cd",
   "metadata": {},
   "outputs": [
    {
     "name": "stdout",
     "output_type": "stream",
     "text": [
      "SVM's Accuracy is: 94.77272727272728 %\n",
      "              precision    recall  f1-score   support\n",
      "\n",
      "       apple       1.00      1.00      1.00        21\n",
      "      banana       1.00      1.00      1.00        18\n",
      "   blackgram       0.77      0.81      0.79        21\n",
      "    chickpea       1.00      1.00      1.00        29\n",
      "     coconut       1.00      0.95      0.97        20\n",
      "      coffee       0.95      1.00      0.98        21\n",
      "      cotton       1.00      1.00      1.00        16\n",
      "      grapes       1.00      1.00      1.00        24\n",
      "        jute       0.76      0.86      0.81        22\n",
      " kidneybeans       1.00      1.00      1.00        15\n",
      "      lentil       0.85      0.77      0.81        22\n",
      "       maize       1.00      1.00      1.00        24\n",
      "       mango       1.00      1.00      1.00        20\n",
      "   mothbeans       0.94      0.88      0.91        17\n",
      "    mungbean       1.00      1.00      1.00        15\n",
      "   muskmelon       1.00      1.00      1.00        17\n",
      "      orange       1.00      1.00      1.00        16\n",
      "      papaya       1.00      1.00      1.00        22\n",
      "  pigeonpeas       0.83      0.91      0.87        22\n",
      " pomegranate       0.95      1.00      0.97        18\n",
      "        rice       0.87      0.68      0.76        19\n",
      "  watermelon       1.00      1.00      1.00        21\n",
      "\n",
      "    accuracy                           0.95       440\n",
      "   macro avg       0.95      0.95      0.95       440\n",
      "weighted avg       0.95      0.95      0.95       440\n",
      "\n"
     ]
    }
   ],
   "source": [
    "from sklearn.svm import SVC\n",
    "from sklearn.preprocessing import MinMaxScaler\n",
    "\n",
    "norm = MinMaxScaler().fit(X_train)\n",
    "X_train_norm = norm.transform(X_train)\n",
    "X_test_norm = norm.transform(X_test)\n",
    "\n",
    "SVM = SVC(kernel='poly', degree=3, C=1)\n",
    "SVM.fit(X_train_norm, Y_train)\n",
    "\n",
    "predicted_values = SVM.predict(X_test_norm)\n",
    "x = metrics.accuracy_score(Y_test, predicted_values)\n",
    "acc.append(x)\n",
    "model.append('SVM')\n",
    "print(f\"SVM's Accuracy is: {x*100} %\")\n",
    "\n",
    "print(classification_report(Y_test, predicted_values))"
   ]
  },
  {
   "cell_type": "code",
   "execution_count": 16,
   "id": "14ab5cb1",
   "metadata": {},
   "outputs": [
    {
     "data": {
      "text/plain": [
       "array([0.91363636, 0.94545455, 0.93409091, 0.91818182, 0.92272727])"
      ]
     },
     "execution_count": 16,
     "metadata": {},
     "output_type": "execute_result"
    }
   ],
   "source": [
    "# cross validation score (SVM)\n",
    "score = cross_val_score(SVM, features, target, cv=5)\n",
    "score"
   ]
  },
  {
   "cell_type": "markdown",
   "id": "a2a3b790",
   "metadata": {},
   "source": [
    "### Saving SVM Classifier Model"
   ]
  },
  {
   "cell_type": "code",
   "execution_count": 17,
   "id": "5b1c4604",
   "metadata": {},
   "outputs": [],
   "source": [
    "SVM_pkl_filepath = '../models/SVMClassifier.pkl'\n",
    "SVM_model_pkl = open(SVM_pkl_filepath, 'wb')\n",
    "pkl.dump(SVM, SVM_model_pkl)\n",
    "SVM_model_pkl.close()"
   ]
  },
  {
   "cell_type": "markdown",
   "id": "729705f7",
   "metadata": {},
   "source": [
    "## Logistic Regression"
   ]
  },
  {
   "cell_type": "code",
   "execution_count": 18,
   "id": "aebb8a11",
   "metadata": {},
   "outputs": [
    {
     "name": "stdout",
     "output_type": "stream",
     "text": [
      "Logistic Regression's Accuracy is: 87.72727272727273 %\n",
      "              precision    recall  f1-score   support\n",
      "\n",
      "       apple       1.00      1.00      1.00        21\n",
      "      banana       1.00      1.00      1.00        18\n",
      "   blackgram       0.59      0.76      0.67        21\n",
      "    chickpea       1.00      1.00      1.00        29\n",
      "     coconut       1.00      0.95      0.97        20\n",
      "      coffee       0.88      1.00      0.93        21\n",
      "      cotton       0.88      0.88      0.88        16\n",
      "      grapes       1.00      1.00      1.00        24\n",
      "        jute       0.68      0.77      0.72        22\n",
      " kidneybeans       1.00      1.00      1.00        15\n",
      "      lentil       0.81      0.77      0.79        22\n",
      "       maize       0.88      0.92      0.90        24\n",
      "       mango       1.00      0.95      0.97        20\n",
      "   mothbeans       0.86      0.71      0.77        17\n",
      "    mungbean       0.94      1.00      0.97        15\n",
      "   muskmelon       0.65      0.65      0.65        17\n",
      "      orange       1.00      1.00      1.00        16\n",
      "      papaya       1.00      1.00      1.00        22\n",
      "  pigeonpeas       0.83      0.68      0.75        22\n",
      " pomegranate       0.95      1.00      0.97        18\n",
      "        rice       0.73      0.58      0.65        19\n",
      "  watermelon       0.70      0.67      0.68        21\n",
      "\n",
      "    accuracy                           0.88       440\n",
      "   macro avg       0.88      0.88      0.88       440\n",
      "weighted avg       0.88      0.88      0.88       440\n",
      "\n"
     ]
    },
    {
     "name": "stderr",
     "output_type": "stream",
     "text": [
      "c:\\Users\\paras\\AppData\\Local\\Programs\\Python\\Python39\\lib\\site-packages\\sklearn\\linear_model\\_logistic.py:763: ConvergenceWarning: lbfgs failed to converge (status=1):\n",
      "STOP: TOTAL NO. of ITERATIONS REACHED LIMIT.\n",
      "\n",
      "Increase the number of iterations (max_iter) or scale the data as shown in:\n",
      "    https://scikit-learn.org/stable/modules/preprocessing.html\n",
      "Please also refer to the documentation for alternative solver options:\n",
      "    https://scikit-learn.org/stable/modules/linear_model.html#logistic-regression\n",
      "  n_iter_i = _check_optimize_result(\n"
     ]
    }
   ],
   "source": [
    "from sklearn.linear_model import LogisticRegression\n",
    "\n",
    "LogReg = LogisticRegression(random_state=2)\n",
    "\n",
    "LogReg.fit(X_train, Y_train)\n",
    "\n",
    "predicted_values = LogReg.predict(X_test)\n",
    "x = metrics.accuracy_score(Y_test, predicted_values)\n",
    "acc.append(x)\n",
    "model.append('Logistic Regression')\n",
    "print(f\"Logistic Regression's Accuracy is: {x*100} %\")\n",
    "\n",
    "print(classification_report(Y_test, predicted_values))"
   ]
  },
  {
   "cell_type": "markdown",
   "id": "56a8ec27",
   "metadata": {},
   "source": [
    "### Saving Logistic Regression Model"
   ]
  },
  {
   "cell_type": "code",
   "execution_count": 46,
   "id": "cf7c32a9",
   "metadata": {},
   "outputs": [],
   "source": [
    "LR_pkl_filepath = '../models/LogisticRegression.pkl'\n",
    "LR_model_pkl = open(LR_pkl_filepath, 'wb')\n",
    "pkl.dump(LogReg, LR_model_pkl)\n",
    "LR_model_pkl.close()"
   ]
  },
  {
   "cell_type": "markdown",
   "id": "f5c371a3",
   "metadata": {},
   "source": [
    "## Random Forest Classifier"
   ]
  },
  {
   "cell_type": "code",
   "execution_count": 19,
   "id": "4a94957c",
   "metadata": {},
   "outputs": [
    {
     "name": "stdout",
     "output_type": "stream",
     "text": [
      "RandomForestClassifier's Accuracy is: 96.36363636363636 %\n",
      "              precision    recall  f1-score   support\n",
      "\n",
      "       apple       1.00      1.00      1.00        21\n",
      "      banana       1.00      1.00      1.00        18\n",
      "   blackgram       0.77      0.95      0.85        21\n",
      "    chickpea       1.00      1.00      1.00        29\n",
      "     coconut       1.00      1.00      1.00        20\n",
      "      coffee       1.00      1.00      1.00        21\n",
      "      cotton       1.00      1.00      1.00        16\n",
      "      grapes       1.00      1.00      1.00        24\n",
      "        jute       0.86      0.86      0.86        22\n",
      " kidneybeans       1.00      1.00      1.00        15\n",
      "      lentil       0.94      0.73      0.82        22\n",
      "       maize       1.00      1.00      1.00        24\n",
      "       mango       1.00      1.00      1.00        20\n",
      "   mothbeans       0.94      0.94      0.94        17\n",
      "    mungbean       1.00      1.00      1.00        15\n",
      "   muskmelon       1.00      1.00      1.00        17\n",
      "      orange       1.00      1.00      1.00        16\n",
      "      papaya       1.00      1.00      1.00        22\n",
      "  pigeonpeas       0.91      0.91      0.91        22\n",
      " pomegranate       1.00      1.00      1.00        18\n",
      "        rice       0.84      0.84      0.84        19\n",
      "  watermelon       1.00      1.00      1.00        21\n",
      "\n",
      "    accuracy                           0.96       440\n",
      "   macro avg       0.97      0.97      0.96       440\n",
      "weighted avg       0.97      0.96      0.96       440\n",
      "\n"
     ]
    }
   ],
   "source": [
    "from sklearn.ensemble import RandomForestClassifier\n",
    "\n",
    "RF = RandomForestClassifier(n_estimators=20, random_state=0)\n",
    "RF.fit(X_train, Y_train)\n",
    "\n",
    "predicted_values = RF.predict(X_test)\n",
    "x = metrics.accuracy_score(Y_test, predicted_values)\n",
    "acc.append(x)\n",
    "model.append('Random Forest')\n",
    "print(f\"RandomForestClassifier's Accuracy is: {x*100} %\")\n",
    "\n",
    "print(classification_report(Y_test, predicted_values))"
   ]
  },
  {
   "cell_type": "code",
   "execution_count": 20,
   "id": "c6e83cc9",
   "metadata": {},
   "outputs": [
    {
     "data": {
      "text/plain": [
       "array([0.96590909, 0.97727273, 0.96136364, 0.95454545, 0.96363636])"
      ]
     },
     "execution_count": 20,
     "metadata": {},
     "output_type": "execute_result"
    }
   ],
   "source": [
    "# cross validation score (RFClassifier)\n",
    "score = cross_val_score(RF, features, target, cv=5)\n",
    "score"
   ]
  },
  {
   "cell_type": "markdown",
   "id": "d87f686b",
   "metadata": {},
   "source": [
    "### Saving RF Classifier Model"
   ]
  },
  {
   "cell_type": "code",
   "execution_count": 49,
   "id": "e477272d",
   "metadata": {},
   "outputs": [],
   "source": [
    "RF_pkl_filepath = '../models/RandomForest.pkl'\n",
    "RF_model_pkl = open(RF_pkl_filepath, 'wb')\n",
    "pkl.dump(RF, RF_model_pkl)\n",
    "RF_model_pkl.close()"
   ]
  },
  {
   "cell_type": "markdown",
   "id": "dcabb329",
   "metadata": {},
   "source": [
    "## KNN Classifier Model"
   ]
  },
  {
   "cell_type": "code",
   "execution_count": 21,
   "id": "e4e665bd",
   "metadata": {},
   "outputs": [
    {
     "name": "stdout",
     "output_type": "stream",
     "text": [
      "KNN's Accuracy is: 91.36363636363637 %\n",
      "              precision    recall  f1-score   support\n",
      "\n",
      "       apple       1.00      1.00      1.00        21\n",
      "      banana       1.00      1.00      1.00        18\n",
      "   blackgram       0.60      0.86      0.71        21\n",
      "    chickpea       1.00      1.00      1.00        29\n",
      "     coconut       1.00      1.00      1.00        20\n",
      "      coffee       0.95      1.00      0.98        21\n",
      "      cotton       0.94      1.00      0.97        16\n",
      "      grapes       1.00      1.00      1.00        24\n",
      "        jute       0.80      0.55      0.65        22\n",
      " kidneybeans       1.00      1.00      1.00        15\n",
      "      lentil       0.70      0.64      0.67        22\n",
      "       maize       1.00      0.92      0.96        24\n",
      "       mango       0.95      1.00      0.98        20\n",
      "   mothbeans       0.89      0.94      0.91        17\n",
      "    mungbean       1.00      1.00      1.00        15\n",
      "   muskmelon       0.85      1.00      0.92        17\n",
      "      orange       1.00      1.00      1.00        16\n",
      "      papaya       1.00      1.00      1.00        22\n",
      "  pigeonpeas       1.00      0.64      0.78        22\n",
      " pomegranate       1.00      1.00      1.00        18\n",
      "        rice       0.64      0.84      0.73        19\n",
      "  watermelon       1.00      0.86      0.92        21\n",
      "\n",
      "    accuracy                           0.91       440\n",
      "   macro avg       0.92      0.92      0.92       440\n",
      "weighted avg       0.92      0.91      0.91       440\n",
      "\n"
     ]
    }
   ],
   "source": [
    "from sklearn.neighbors import KNeighborsClassifier\n",
    "\n",
    "KNN = KNeighborsClassifier(n_neighbors=5)\n",
    "KNN.fit(X_train, Y_train)\n",
    "\n",
    "predicted_values = KNN.predict(X_test)\n",
    "x = metrics.accuracy_score(Y_test, predicted_values)\n",
    "acc.append(x)\n",
    "model.append('KNN')\n",
    "print(f\"KNN's Accuracy is: {x*100} %\")\n",
    "\n",
    "print(classification_report(Y_test, predicted_values))"
   ]
  },
  {
   "cell_type": "code",
   "execution_count": 22,
   "id": "bda29c1c",
   "metadata": {},
   "outputs": [
    {
     "data": {
      "text/plain": [
       "array([0.91363636, 0.93863636, 0.93409091, 0.90681818, 0.92727273])"
      ]
     },
     "execution_count": 22,
     "metadata": {},
     "output_type": "execute_result"
    }
   ],
   "source": [
    "# cross validation score (KNN)\n",
    "score = cross_val_score(KNN, features, target, cv=5)\n",
    "score"
   ]
  },
  {
   "cell_type": "markdown",
   "id": "4231859f",
   "metadata": {},
   "source": [
    "### Saving KNN Classifier Model"
   ]
  },
  {
   "cell_type": "code",
   "execution_count": 53,
   "id": "cfc959d8",
   "metadata": {},
   "outputs": [],
   "source": [
    "KNN_pkl_filepath = '../models/KNNClassifier.pkl'\n",
    "KNN_model_pkl = open(KNN_pkl_filepath, 'wb')\n",
    "pkl.dump(KNN, KNN_model_pkl)\n",
    "KNN_model_pkl.close()"
   ]
  },
  {
   "cell_type": "markdown",
   "id": "f7f8e5ea",
   "metadata": {},
   "source": [
    "## Accuracy Comparison"
   ]
  },
  {
   "cell_type": "code",
   "execution_count": 23,
   "id": "6a39f306",
   "metadata": {},
   "outputs": [
    {
     "data": {
      "text/plain": [
       "<Axes: title={'center': 'Accuracy Comparison'}, xlabel='Accuracy', ylabel='Classifiers'>"
      ]
     },
     "execution_count": 23,
     "metadata": {},
     "output_type": "execute_result"
    },
    {
     "data": {
      "image/png": "[encoded data removed]",
      "text/plain": [
       "<Figure size 2000x1000 with 1 Axes>"
      ]
     },
     "metadata": {},
     "output_type": "display_data"
    }
   ],
   "source": [
    "plt.figure(figsize=[20, 10], dpi=100)\n",
    "plt.title('Accuracy Comparison')\n",
    "plt.xlabel('Accuracy')\n",
    "plt.ylabel('Classifiers')\n",
    "\n",
    "sns.barplot(x=acc, y=model, hue=model, palette='viridis')"
   ]
  },
  {
   "cell_type": "code",
   "execution_count": 24,
   "id": "7a855cd3",
   "metadata": {},
   "outputs": [
    {
     "name": "stdout",
     "output_type": "stream",
     "text": [
      "Naive Bayes: 96.13636363636363 %\n",
      "Decision Tree: 81.81818181818183 %\n",
      "SVM: 94.77272727272728 %\n",
      "Logistic Regression: 87.72727272727273 %\n",
      "Random Forest: 96.36363636363636 %\n",
      "KNN: 91.36363636363637 %\n"
     ]
    }
   ],
   "source": [
    "models_accuracy = dict(zip(model, acc))\n",
    "for k, v in models_accuracy.items():\n",
    "    print(f\"{k}: {v*100} %\")"
   ]
  },
  {
   "cell_type": "markdown",
   "id": "7bb27f9d",
   "metadata": {},
   "source": [
    "## Making Predictions"
   ]
  },
  {
   "cell_type": "code",
   "execution_count": 27,
   "id": "33fe9027",
   "metadata": {},
   "outputs": [
    {
     "name": "stdout",
     "output_type": "stream",
     "text": [
      "Recommended Crop:  ['mothbeans']\n"
     ]
    }
   ],
   "source": [
    "data = np.array([[104,18, 30,20.806, 23.603016, 60.3]])\n",
    "prediction = NaiveBayes.predict(data)\n",
    "print(\"Recommended Crop: \",prediction)"
   ]
  },
  {
   "cell_type": "code",
   "execution_count": 28,
   "id": "bcb7e07e",
   "metadata": {},
   "outputs": [
    {
     "name": "stdout",
     "output_type": "stream",
     "text": [
      "Recommended Crop:  ['chickpea']\n"
     ]
    }
   ],
   "source": [
    "data = np.array([[136, 18, 212, 28.8, 23.60, 5.43]])\n",
    "prediction = NaiveBayes.predict(data)\n",
    "print(\"Recommended Crop: \",prediction)"
   ]
  }
 ],
 "metadata": {
  "kernelspec": {
   "display_name": "Python 3 (ipykernel)",
   "language": "python",
   "name": "python3"
  },
  "language_info": {
   "codemirror_mode": {
    "name": "ipython",
    "version": 3
   },
   "file_extension": ".py",
   "mimetype": "text/x-python",
   "name": "python",
   "nbconvert_exporter": "python",
   "pygments_lexer": "ipython3",
   "version": "3.9.7"
  }
 },
 "nbformat": 4,
 "nbformat_minor": 5
}
